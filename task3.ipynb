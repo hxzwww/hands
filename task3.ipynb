{
  "nbformat": 4,
  "nbformat_minor": 0,
  "metadata": {
    "colab": {
      "provenance": []
    },
    "kernelspec": {
      "name": "python3",
      "display_name": "Python 3"
    },
    "language_info": {
      "name": "python"
    }
  },
  "cells": [
    {
      "cell_type": "code",
      "execution_count": 7,
      "metadata": {
        "id": "TGTZwPT1T-ob"
      },
      "outputs": [],
      "source": [
        "import pandas as pd\n",
        "from scipy.optimize import minimize\n",
        "import numpy as np"
      ]
    },
    {
      "cell_type": "code",
      "source": [
        "df = pd.read_excel('test_data_3.xlsx')"
      ],
      "metadata": {
        "id": "Il6EKeCyT_BW"
      },
      "execution_count": 4,
      "outputs": []
    },
    {
      "cell_type": "code",
      "source": [
        "def loss(params, x, y, z):\n",
        "    a, b = params\n",
        "    z_pred = (a + x) ** (b + y)\n",
        "    return np.mean((z - z_pred) ** 2)"
      ],
      "metadata": {
        "id": "nw_u0FVnUS4e"
      },
      "execution_count": 9,
      "outputs": []
    },
    {
      "cell_type": "code",
      "source": [
        "initial_guess = [5, 5]\n",
        "\n",
        "bounds = [(1, 10), (1, 10)]\n",
        "\n",
        "result = minimize(loss, initial_guess, args=(df.x, df.y, df.z), bounds=bounds)\n",
        "\n",
        "a_opt, b_opt = result.x\n",
        "\n",
        "print(f\"Оптимальные значения a: {a_opt:.4f}, b: {b_opt:.4f}\")"
      ],
      "metadata": {
        "colab": {
          "base_uri": "https://localhost:8080/"
        },
        "id": "3V4b2G2wUoQC",
        "outputId": "40b8aad5-3f02-4dc3-db0c-afb03eca731c"
      },
      "execution_count": 12,
      "outputs": [
        {
          "output_type": "stream",
          "name": "stdout",
          "text": [
            "Оптимальные значения a: 3.1417, b: 2.7163\n"
          ]
        }
      ]
    },
    {
      "cell_type": "code",
      "source": [
        "max_loss = np.max([\n",
        "    loss((a_opt, b_opt), x, y, z) for x, y, z in zip(df.x, df.y, df.z)\n",
        "])\n",
        "\n",
        "mean_loss = np.mean([\n",
        "    loss((a_opt, b_opt), x, y, z) for x, y, z in zip(df.x, df.y, df.z)\n",
        "])\n",
        "\n",
        "print(f\"Максимальная ошибка: {max_loss:.4f}, средняя ошибка: {mean_loss:.4f}\")"
      ],
      "metadata": {
        "colab": {
          "base_uri": "https://localhost:8080/"
        },
        "id": "xvpQ4GqPWGT3",
        "outputId": "fde54087-8965-4032-d402-c9bba24fe354"
      },
      "execution_count": 17,
      "outputs": [
        {
          "output_type": "stream",
          "name": "stdout",
          "text": [
            "Максимальная ошибка: 0.0120, средняя ошибка: 0.0013\n"
          ]
        }
      ]
    },
    {
      "cell_type": "markdown",
      "source": [
        "Таким образом мы получили верные значения с точностью до случайного шума"
      ],
      "metadata": {
        "id": "nhf4X2ZWXBYx"
      }
    }
  ]
}